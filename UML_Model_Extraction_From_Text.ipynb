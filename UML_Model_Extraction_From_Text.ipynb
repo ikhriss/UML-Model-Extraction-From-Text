{
 "cells": [
  {
   "cell_type": "code",
   "execution_count": null,
   "id": "cbd43ddf-7f7e-45ac-825f-2fe741b7a9f4",
   "metadata": {
    "colab": {
     "base_uri": "https://localhost:8080/"
    },
    "executionInfo": {
     "elapsed": 13593,
     "status": "ok",
     "timestamp": 1689842958245,
     "user": {
      "displayName": "Bert AdBert",
      "userId": "08702640791904087626"
     },
     "user_tz": -60
    },
    "id": "cbd43ddf-7f7e-45ac-825f-2fe741b7a9f4",
    "outputId": "b3d21692-221e-4c6a-942a-ff02fa3869db"
   },
   "outputs": [],
   "source": [
    "!pip install -r requirements.txt"
   ]
  },
  {
   "cell_type": "code",
   "execution_count": null,
   "id": "06cddacd-d7e2-40c1-8002-62243a7be799",
   "metadata": {
    "colab": {
     "base_uri": "https://localhost:8080/"
    },
    "id": "06cddacd-d7e2-40c1-8002-62243a7be799",
    "outputId": "b9889b80-ea5e-4706-d18f-b7917bfa90fd"
   },
   "outputs": [],
   "source": [
    "!python train_and_evaluate.py --data_dir data --model_dir experiments/bert_head_model --METHOD 'BERT' --TECHNIQUE 'head'"
   ]
  },
  {
   "cell_type": "code",
   "execution_count": null,
   "id": "56426dec-53ba-48e8-9482-bee5f5232d15",
   "metadata": {
    "colab": {
     "base_uri": "https://localhost:8080/"
    },
    "executionInfo": {
     "elapsed": 444222,
     "status": "ok",
     "timestamp": 1689722691217,
     "user": {
      "displayName": "Bert AdBert",
      "userId": "08702640791904087626"
     },
     "user_tz": -60
    },
    "id": "56426dec-53ba-48e8-9482-bee5f5232d15",
    "outputId": "bb5f76da-3d04-43e5-e6fe-3571a3a139e9"
   },
   "outputs": [],
   "source": [
    "!python search_hyperparams.py --data_dir data --parent_dir experiments/learning_rate --METHOD 'BERT' --TECHNIQUE 'padding'"
   ]
  },
  {
   "cell_type": "code",
   "execution_count": null,
   "id": "PXTOMIqKfTNP",
   "metadata": {
    "colab": {
     "base_uri": "https://localhost:8080/"
    },
    "executionInfo": {
     "elapsed": 19012,
     "status": "ok",
     "timestamp": 1689847137913,
     "user": {
      "displayName": "Bert AdBert",
      "userId": "08702640791904087626"
     },
     "user_tz": -60
    },
    "id": "PXTOMIqKfTNP",
    "outputId": "58357bf5-85e6-4388-d5bc-3e5545266d95"
   },
   "outputs": [],
   "source": [
    "!python predict.py --data_dir data --model_dir experiments/learning_rate/learning_rate_BERT_padding_0.0001 --METHOD 'BERT' --TECHNIQUE 'padding'"
   ]
  }
 ],
 "metadata": {
  "accelerator": "GPU",
  "colab": {
   "gpuType": "T4",
   "provenance": []
  },
  "gpuClass": "standard",
  "kernelspec": {
   "display_name": "Python 3 (ipykernel)",
   "language": "python",
   "name": "python3"
  },
  "language_info": {
   "codemirror_mode": {
    "name": "ipython",
    "version": 3
   },
   "file_extension": ".py",
   "mimetype": "text/x-python",
   "name": "python",
   "nbconvert_exporter": "python",
   "pygments_lexer": "ipython3",
   "version": "3.8.16"
  }
 },
 "nbformat": 4,
 "nbformat_minor": 5
}
